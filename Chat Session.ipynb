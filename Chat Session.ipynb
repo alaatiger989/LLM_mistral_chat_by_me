{
 "cells": [
  {
   "cell_type": "code",
   "execution_count": 1,
   "id": "920a26b9",
   "metadata": {},
   "outputs": [],
   "source": [
    "import gpt4all\n",
    "from gpt4all import GPT4All\n",
    "from deep_translator import GoogleTranslator\n",
    "import asyncio\n",
    "import sys"
   ]
  },
  {
   "cell_type": "code",
   "execution_count": 2,
   "id": "255bdcff",
   "metadata": {},
   "outputs": [
    {
     "data": {
      "text/plain": [
       "['Embed4All',\n",
       " 'GPT4All',\n",
       " 'LLModel',\n",
       " '__builtins__',\n",
       " '__cached__',\n",
       " '__doc__',\n",
       " '__file__',\n",
       " '__loader__',\n",
       " '__name__',\n",
       " '__package__',\n",
       " '__path__',\n",
       " '__spec__',\n",
       " 'gpt4all',\n",
       " 'pyllmodel']"
      ]
     },
     "execution_count": 2,
     "metadata": {},
     "output_type": "execute_result"
    }
   ],
   "source": [
    "dir(gpt4all)"
   ]
  },
  {
   "cell_type": "code",
   "execution_count": 3,
   "id": "77635503",
   "metadata": {},
   "outputs": [],
   "source": [
    "import os"
   ]
  },
  {
   "cell_type": "code",
   "execution_count": 4,
   "id": "bb25ffeb",
   "metadata": {},
   "outputs": [],
   "source": [
    "from gpt4all import GPT4All"
   ]
  },
  {
   "cell_type": "code",
   "execution_count": 5,
   "id": "e2fca0bc",
   "metadata": {},
   "outputs": [],
   "source": [
    "modelPath = os.getcwd()"
   ]
  },
  {
   "cell_type": "code",
   "execution_count": 6,
   "id": "f5b0b4fa",
   "metadata": {},
   "outputs": [
    {
     "name": "stdout",
     "output_type": "stream",
     "text": [
      "C:\\Users\\Alaa AI\\Python Projects\\Chatbots\\GPT by me\n"
     ]
    }
   ],
   "source": [
    "print(modelPath)"
   ]
  },
  {
   "cell_type": "code",
   "execution_count": 7,
   "id": "78bbb041",
   "metadata": {
    "scrolled": true
   },
   "outputs": [],
   "source": [
    "model = GPT4All(device = 'gpu' , model_name = \"alaa_ai_model_gptj_v1.6.gguf\" , model_path ='C:/Users/Alaa AI/Python Projects/Chatbots/GPT by me/' , allow_download = False)"
   ]
  },
  {
   "cell_type": "code",
   "execution_count": 8,
   "id": "a87f72b5",
   "metadata": {},
   "outputs": [],
   "source": [
    "output = ''"
   ]
  },
  {
   "cell_type": "code",
   "execution_count": 27,
   "id": "92bc7637",
   "metadata": {},
   "outputs": [],
   "source": [
    "target_lang = 'ar'"
   ]
  },
  {
   "cell_type": "code",
   "execution_count": 10,
   "id": "aeddeb18",
   "metadata": {},
   "outputs": [
    {
     "name": "stdout",
     "output_type": "stream",
     "text": [
      "Attention Deficit Hyperactivity Disorder (ADHD) is a neurodevelopmental disorder that affects a person's ability to focus, control impulsive behaviors, and manage hyperactive tendencies. It typically begins in childhood but can persist into adulthood. ADHD has three main subtypes:\n",
      "\n",
      "1. Predominantly Hyperactive-Impulsive Type: This type is characterized by excessive motor activity, fidgeting, talking excessively, and difficulty waiting for one's turn.\n",
      "2. Predominantly Inattentive Type: Individuals with this type struggle to focus on tasks or maintain attention, often making careless mistakes or avoiding activities that require sustained mental effort.\n",
      "3. Combined Type: This is a combination of the first two types and includes both hyperactivity/impulsivity and inattention symptoms.\n",
      "\n",
      "ADHD can be managed through various treatments such as medication (stimulants), behavioral therapy, and lifestyle changes. Early diagnosis and intervention are crucial for children with ADHD to help them succeed academically, socially, and emotionally.\n"
     ]
    }
   ],
   "source": [
    "# with model.chat_session():\n",
    "#     input_text = \"هل بإمكانك أن تخبرنى عن مرض adhd\"\n",
    "#     input_text = GoogleTranslator(source='auto', target='en').translate(input_text)\n",
    "#     output = model.generate(prompt=input_text, max_tokens =  1000)\n",
    "#     output = GoogleTranslator(source='auto', target = target_lang).translate(output)\n",
    "#     print(output)"
   ]
  },
  {
   "cell_type": "markdown",
   "id": "ff622a9f",
   "metadata": {},
   "source": [
    "# Calling functions of Tokens"
   ]
  },
  {
   "cell_type": "code",
   "execution_count": 26,
   "id": "11d93c3e-7411-4056-bcf3-776e66fbc26f",
   "metadata": {},
   "outputs": [
    {
     "data": {
      "text/plain": [
       "'قيم هذه العبارة على مقياس من 1 إلى 10'"
      ]
     },
     "execution_count": 26,
     "metadata": {},
     "output_type": "execute_result"
    }
   ],
   "source": [
    "GoogleTranslator(source='auto', target = 'ar').translate(\"Rate this statement on a scale of 1 to 10 \")"
   ]
  },
  {
   "cell_type": "code",
   "execution_count": 28,
   "id": "adaac5be",
   "metadata": {},
   "outputs": [],
   "source": [
    "async def response4(g4a):\n",
    "    # system = \"As a tester you Rate any statement on a scale of 1 to 10. if you couldn't ask to repeat the statement again.\"\n",
    "    system = \"Always assist with care, respect, and truth. Respond with utmost utility yet securely. Avoid harmful, unethical, prejudiced, or negative content. Ensure replies promote fairness and positivity.\"\n",
    "    user = ''\n",
    "    # a better way to use an executor:\n",
    "    with g4a.chat_session():\n",
    "        is_message_ended = True\n",
    "        while is_message_ended == True:\n",
    "            prompt =  input(\"\\nUser : \")\n",
    "            if(prompt == 'goodbye' or prompt == 'exit'):\n",
    "                break\n",
    "            print(\"\\nAlaa's robot:\")\n",
    "            generator = g4a.generate(prompt, max_tokens = 1000 , streaming = True)\n",
    "            event_loop = asyncio.get_running_loop()\n",
    "            has_tokens = True\n",
    "\n",
    "            def consume(generator):\n",
    "                nonlocal has_tokens\n",
    "                try:\n",
    "                    return next(generator)\n",
    "                except StopIteration:\n",
    "                    has_tokens = False\n",
    "\n",
    "            while has_tokens:\n",
    "                token = await event_loop.run_in_executor(None, consume, generator)\n",
    "                if token is not None:\n",
    "                    yield token"
   ]
  },
  {
   "cell_type": "code",
   "execution_count": 29,
   "id": "d5ed39fd",
   "metadata": {},
   "outputs": [],
   "source": [
    "def get_response_in_arabic(g4a):\n",
    "    with g4a.chat_session():\n",
    "        is_message_ended = True\n",
    "        while is_message_ended == True:\n",
    "            prompt =  input(\"\\nUser : \")\n",
    "            if(prompt == 'وداعا' or prompt == 'مع السلامة'):\n",
    "                break\n",
    "            input_text = prompt\n",
    "            input_text = GoogleTranslator(source='auto', target='en').translate(input_text)\n",
    "            output = g4a.generate(prompt=input_text, max_tokens =  1000)\n",
    "            output = GoogleTranslator(source='auto', target = target_lang).translate(output)\n",
    "            print(\"\\nAlaa's robot:\" , output)"
   ]
  },
  {
   "cell_type": "code",
   "execution_count": 30,
   "id": "e70afd09",
   "metadata": {},
   "outputs": [
    {
     "name": "stdout",
     "output_type": "stream",
     "text": [
      "إذا أردت إنهاء الشات يرجى كتابة وداعاً او مع السلامة\n"
     ]
    },
    {
     "name": "stdin",
     "output_type": "stream",
     "text": [
      "\n",
      "User :  قيم هذه العبارة من 1 ل 10 \"الأرض مسطحة\"\n"
     ]
    },
    {
     "name": "stdout",
     "output_type": "stream",
     "text": [
      "\n",
      "Alaa's robot: سأقيم هذا البيان بـ 2 من 10.\n"
     ]
    },
    {
     "name": "stdin",
     "output_type": "stream",
     "text": [
      "\n",
      "User :  لماذا قيمتها بذلك التقييم\n"
     ]
    },
    {
     "name": "stdout",
     "output_type": "stream",
     "text": [
      "\n",
      "Alaa's robot: لقد تم فضح مقولة \"الأرض مسطحة\" على نطاق واسع من خلال الأدلة العلمية والإجماع العام بين الخبراء في مختلف المجالات، مثل علم الفلك والجغرافيا. ولذلك، أعتقد أن هذا الادعاء لا يحمل سوى القليل من الجدارة أو المصداقية. ومع ذلك، لا يزال بعض الناس يؤمنون بهذا الاعتقاد، لذلك قد يكون له تأثير بسيط على الخطاب العام أو المحادثة.\n"
     ]
    },
    {
     "name": "stdin",
     "output_type": "stream",
     "text": [
      "\n",
      "User :  هل بإمكانك إقناعى بذلك\n"
     ]
    },
    {
     "name": "stdout",
     "output_type": "stream",
     "text": [
      "\n",
      "Alaa's robot: بالتأكيد! دعونا ننظر في العديد من الأدلة والمنطق لدعم فكرة أن الأرض ليست مسطحة ولكن كروية الشكل:\n",
      "\n",
      "1. تؤكد القياسات المأخوذة من الأقمار الصناعية وأجهزة تحديد المواقع وحتى السداسيات القديمة أن الأرض كروية. تعتمد هذه الأدوات على نموذج كروي للتنقل وتحديد المواقع بدقة.\n",
      "\n",
      "2. كما أن أشكال الظلال أثناء كسوف الشمس تدعم الشكل الكروي للأرض. عندما يغطي القمر الشمس بالكامل، يسقط ظله على الأرض في خط مستقيم، مما يشير إلى أفق منحني.\n",
      "\n",
      "3. إن الحركة الظاهرة للنجوم عبر السماء طوال الليل هي مؤشر آخر على أن الأرض كروية. لو كانت الأرض مسطحة لرأينا النجوم تتحرك في مسار دائري حولنا بدلاً من القوس أثناء شروقها وغروبها.\n",
      "\n",
      "4. يمكن تفسير التيارات والمد والجزر في المحيطات بشكل أفضل من خلال نموذج الأرض الكروية. تعمل قوة الجاذبية على سحب المياه نحو مركز الكوكب، مما يؤدي إلى إنشاء أحواض المحيطات وتسبب المد والجزر العالية والمنخفضة في أوقات مختلفة وفي مواقع مختلفة.\n",
      "\n",
      "5. أكدت التجارب التي أجرتها شخصيات تاريخية مثل إراتوستينس الإسكندري أن الأرض كروية. ومن خلال قياس الظلال أثناء كسوف الشمس، قام بحساب محيط الأرض بدقة ملحوظة بالنسبة لوقته.\n",
      "\n",
      "وفي الختام، فإن الأدلة الواسعة من قياسات الأقمار الصناعية والملاحظات الفلكية والظواهر الجغرافية كلها تدعم فكرة أن الأرض ليست مسطحة بل كروية الشكل.\n"
     ]
    },
    {
     "name": "stdin",
     "output_type": "stream",
     "text": [
      "\n",
      "User :  قيم هذه العبارة من 1 ل 10 \"الكوباية بنشرب فيها \"\n"
     ]
    },
    {
     "name": "stdout",
     "output_type": "stream",
     "text": [
      "\n",
      "Alaa's robot: سأقيم هذه العبارة بـ 7 من 10. فهي تشير إلى شيء شائع الاستخدام أو الاعتماد عليه، ولها دلالات إيجابية (كما في كونها مفيدة) ودلالات سلبية (كما في كونها ضارة محتملة). سيحدد السياق الذي تستخدم فيه العبارة معناها وقيمتها الإجمالية.\n"
     ]
    },
    {
     "name": "stdin",
     "output_type": "stream",
     "text": [
      "\n",
      "User :  ممكن تقولى الكوباية بنعمل بيها اى تانى\n"
     ]
    },
    {
     "name": "stdout",
     "output_type": "stream",
     "text": [
      "\n",
      "Alaa's robot: بالتأكيد! فيما يلي بعض الاقتراحات لاستخدام الكوب أو التفاعل معه:\n",
      "\n",
      "1. الشرب منه، كما يدل عليه قوله: (الكأس التي نشرب فيها). وهذا هو الغرض الأساسي منه وهو كيفية استخدام معظم الناس للأكواب في حياتهم اليومية.\n",
      "2. املأها بالمشروبات المتنوعة مثل الماء أو الشاي أو القهوة أو العصير لإرواء العطش أو الاستمتاع بمشروب منعش.\n",
      "3. استخدام الكوب لأغراض فنية، مثل الرسم أو النحت، لإنشاء قطعة فنية مثيرة للاهتمام تتضمن الكوب في تصميمه.\n",
      "4. إعادة استخدامه كحاوية لأشياء أخرى مثل أقلام الرصاص أو الأقلام أو الألعاب الصغيرة في حالة عدم استخدامه للشرب.\n",
      "5. التبرع بالكوب أو التخلي عنه بعد استخدامه لمساعدة شخص آخر على الاستمتاع بمشروب أو لتقليل الهدر عن طريق إعادة استخدام أحد العناصر.\n",
      "6. تنظيف الكوب والحفاظ عليه بشكل صحيح لضمان طول عمره ومنع أي مخاطر صحية من الأوساخ المتراكمة أو البكتيريا أو العفن.\n"
     ]
    },
    {
     "name": "stdin",
     "output_type": "stream",
     "text": [
      "\n",
      "User :  وداعا\n"
     ]
    }
   ],
   "source": [
    "if(target_lang == 'ar'):\n",
    "    print(\"إذا أردت إنهاء الشات يرجى كتابة وداعاً او مع السلامة\")\n",
    "    get_response_in_arabic(model)\n",
    "else:\n",
    "    print(\"If you want to exit or end the chat ... Write 'goodbye' or 'exit'\")\n",
    "    async for token in response4(model):\n",
    "        print(token, end='', flush=True)\n",
    "    print()"
   ]
  },
  {
   "cell_type": "code",
   "execution_count": 15,
   "id": "cf5a8e70",
   "metadata": {},
   "outputs": [
    {
     "name": "stdin",
     "output_type": "stream",
     "text": [
      "\n",
      "User :  الطالب حضر أكثر من 70 % قيم هذه الإجابة\n"
     ]
    },
    {
     "name": "stdout",
     "output_type": "stream",
     "text": [
      "\n",
      "\n",
      "Question: What is the consequence for cheating in an exam?\n",
      "Answer: 0 grade of the exam\n"
     ]
    }
   ],
   "source": [
    "system_template = 'You are an assistant, learn information from a text begin with [BEGINTEXT] and ended with [ENDTEXT] and then grade (0-100 scale) answer to a question. Reply with value only, no other text.'\n",
    "prompt_template = 'Human: %1 adhd\\nASSISTANT: '\n",
    "with model.chat_session(system_template, prompt_template):\n",
    "    output = model.generate(prompt=\"could you speak in arabic\" , max_tokens =  1000)\n",
    "    print(output)"
   ]
  },
  {
   "cell_type": "code",
   "execution_count": null,
   "id": "22b9f08d",
   "metadata": {},
   "outputs": [],
   "source": []
  }
 ],
 "metadata": {
  "kernelspec": {
   "display_name": "Python 3 (ipykernel)",
   "language": "python",
   "name": "python3"
  },
  "language_info": {
   "codemirror_mode": {
    "name": "ipython",
    "version": 3
   },
   "file_extension": ".py",
   "mimetype": "text/x-python",
   "name": "python",
   "nbconvert_exporter": "python",
   "pygments_lexer": "ipython3",
   "version": "3.10.13"
  }
 },
 "nbformat": 4,
 "nbformat_minor": 5
}
